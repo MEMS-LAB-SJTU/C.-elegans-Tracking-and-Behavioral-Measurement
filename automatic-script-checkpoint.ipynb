{
 "cells": [
  {
   "cell_type": "code",
   "execution_count": 50,
   "metadata": {
    "collapsed": true
   },
   "outputs": [],
   "source": [
    "import os\n",
    "import re\n",
    "import sys\n",
    "reload(sys)\n",
    "sys.setdefaultencoding('utf-8')"
   ]
  },
  {
   "cell_type": "code",
   "execution_count": 135,
   "metadata": {},
   "outputs": [],
   "source": [
    "WorkPath='D:\\\\project\\\\latex\\\\automatic-scripts'\n",
    "WorkPath=unicode(WorkPath,\"utf-8\")\n",
    "DataPath=u'D:\\\\project\\\\latex\\\\automatic-scripts\\\\image'\n"
   ]
  },
  {
   "cell_type": "code",
   "execution_count": 52,
   "metadata": {},
   "outputs": [],
   "source": [
    "files=os.listdir(DataPath.encode('gbk'))"
   ]
  },
  {
   "cell_type": "code",
   "execution_count": 18,
   "metadata": {},
   "outputs": [],
   "source": [
    "pattern=re.compile(r'[0-9]+')"
   ]
  },
  {
   "cell_type": "code",
   "execution_count": 33,
   "metadata": {},
   "outputs": [],
   "source": [
    "list_files=map(lambda x:re.findall(pattern,x),files)"
   ]
  },
  {
   "cell_type": "code",
   "execution_count": 35,
   "metadata": {},
   "outputs": [],
   "source": [
    "digit_all=[]\n",
    "for it in list_files:\n",
    "    digit_all.append(map(int,it))"
   ]
  },
  {
   "cell_type": "code",
   "execution_count": 43,
   "metadata": {
    "collapsed": true
   },
   "outputs": [],
   "source": [
    "ziped_list=zip(files,digit_all)"
   ]
  },
  {
   "cell_type": "code",
   "execution_count": 46,
   "metadata": {},
   "outputs": [],
   "source": [
    "sorted_list=sorted(ziped_list,key=lambda x:x[1][0])"
   ]
  },
  {
   "cell_type": "code",
   "execution_count": 117,
   "metadata": {},
   "outputs": [],
   "source": [
    "#fo = open(os.path.join(WorkPath,'example.latex'), \"w\")\n",
    "#fo.write(header)\n",
    "#fo.write(st)\n",
    "#fo.write(tail)\n",
    "#fo.close()"
   ]
  },
  {
   "cell_type": "code",
   "execution_count": 169,
   "metadata": {},
   "outputs": [],
   "source": [
    "header=r'''\\documentclass{article}\n",
    "\\usepackage{ctex}\n",
    "\\usepackage{CJK}\n",
    "\\usepackage{epsfig}\n",
    "\\usepackage{subfigure}\n",
    "\\usepackage{graphicx}\n",
    "\\usepackage[section]{placeins}\n",
    "\\renewcommand{\\figurename}{票据}\n",
    "\\begin{document}\n",
    "\\title{记账凭单册}\n",
    "\\date{\\today}\n",
    "\\maketitle\n",
    "'''\n",
    "row=r'''\\clearpage\n",
    "    \\begin{figure}\n",
    "    \\caption{caption}\n",
    "    \\includegraphics[width=15cm]{img_path}\n",
    "    \\centering\n",
    "\\end{figure}\n",
    "'''\n",
    "tail=r'''\\end{document}'''"
   ]
  },
  {
   "cell_type": "code",
   "execution_count": 116,
   "metadata": {},
   "outputs": [],
   "source": [
    "st=row.format()"
   ]
  },
  {
   "cell_type": "code",
   "execution_count": 170,
   "metadata": {},
   "outputs": [],
   "source": [
    "caption=\"{这是第%s-%s票据}\"\n",
    "img_path='''{image/%s/%s}'''\n",
    "fo = open(os.path.join(WorkPath,'final.latex'), \"w\")\n",
    "fo.write(header)\n",
    "for it in sorted_list:\n",
    "    file_list_=os.listdir(os.path.join(DataPath,it[0]))\n",
    "    if file_list_ == []:\n",
    "        continue\n",
    "    for it_2 in range(it[1][0],it[1][-1]+1):\n",
    "        for idx,it_3 in enumerate(file_list_):\n",
    "            caption_instance=caption%(str(it_2),str(idx))\n",
    "            img_path_instance=img_path%(it[0],it_3)\n",
    "            st=row.format(figure='''{figure}''',caption=caption_instance,img_path=img_path_instance)\n",
    "            fo.write(st)\n",
    "fo.write(tail)\n",
    "fo.close()"
   ]
  }
 ],
 "metadata": {
  "kernelspec": {
   "display_name": "Python 2",
   "language": "python",
   "name": "python2"
  },
  "language_info": {
   "codemirror_mode": {
    "name": "ipython",
    "version": 2
   },
   "file_extension": ".py",
   "mimetype": "text/x-python",
   "name": "python",
   "nbconvert_exporter": "python",
   "pygments_lexer": "ipython2",
   "version": "2.7.13"
  }
 },
 "nbformat": 4,
 "nbformat_minor": 2
}
