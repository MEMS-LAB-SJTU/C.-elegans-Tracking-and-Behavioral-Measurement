{
 "cells": [
  {
   "cell_type": "code",
   "execution_count": 4,
   "metadata": {},
   "outputs": [
    {
     "name": "stdout",
     "output_type": "stream",
     "text": [
      " 驱动器 D 中的卷是 DATA\n",
      " 卷的序列号是 F6E5-C99B\n",
      "\n",
      " D:\\project\\python\\worm\\src\\experiment 的目录\n",
      "\n",
      "2018/04/08  15:18    <DIR>          .\n",
      "2018/04/08  15:18    <DIR>          ..\n",
      "2016/12/23  20:54             6,701 common.py\n",
      "2018/04/08  15:18            11,432 common.pyc\n",
      "2018/04/08  15:07               911 experiment.py\n",
      "2018/04/08  15:21             2,500 opt_flow.py\n",
      "2016/12/23  20:54             3,779 tst_scene_render.py\n",
      "2018/04/08  15:18             4,501 tst_scene_render.pyc\n",
      "2016/12/23  20:54             7,065 video.py\n",
      "2018/04/08  15:18             9,548 video.pyc\n",
      "               8 个文件         46,437 字节\n",
      "               2 个目录 34,948,661,248 可用字节\n"
     ]
    }
   ],
   "source": [
    "ls"
   ]
  },
  {
   "cell_type": "code",
   "execution_count": null,
   "metadata": {
    "collapsed": true
   },
   "outputs": [],
   "source": []
  },
  {
   "cell_type": "code",
   "execution_count": null,
   "metadata": {
    "collapsed": true
   },
   "outputs": [],
   "source": []
  }
 ],
 "metadata": {
  "kernelspec": {
   "display_name": "Python 3",
   "language": "python",
   "name": "python3"
  },
  "language_info": {
   "codemirror_mode": {
    "name": "ipython",
    "version": 3
   },
   "file_extension": ".py",
   "mimetype": "text/x-python",
   "name": "python",
   "nbconvert_exporter": "python",
   "pygments_lexer": "ipython3",
   "version": "3.5.4"
  }
 },
 "nbformat": 4,
 "nbformat_minor": 2
}
